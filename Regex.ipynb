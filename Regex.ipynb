{
 "cells": [
  {
   "cell_type": "code",
   "execution_count": 5,
   "id": "413da4e6",
   "metadata": {},
   "outputs": [],
   "source": [
    "import re"
   ]
  },
  {
   "cell_type": "code",
   "execution_count": 253,
   "id": "42df3c9c",
   "metadata": {},
   "outputs": [
    {
     "name": "stdout",
     "output_type": "stream",
     "text": [
      "Введите номер ТСА199РР176\n",
      "Номер: А199РР Регион: 176\n"
     ]
    }
   ],
   "source": [
    "inp = 'A983KK198'\n",
    "inp = input('Введите номер ТС')\n",
    "\n",
    "def val_car_number(car_number):\n",
    "    regex_numcar = r'([АВЕКМНОРСТУХ]{1}\\d{3}[АВЕКМНОРСТУХ]{2})(\\d{2,3})'\n",
    "\n",
    "    if re.match(regex_numcar, car_number):\n",
    "        numcar = re.split(regex_numcar, car_number)\n",
    "        print(f'Номер: {numcar[1]} Регион: {numcar[2]}')\n",
    "    else:\n",
    "        print('Номер не валидный для ТС')\n",
    "val_car_number(inp)"
   ]
  },
  {
   "cell_type": "code",
   "execution_count": 50,
   "id": "82d07a9a",
   "metadata": {},
   "outputs": [
    {
     "name": "stdout",
     "output_type": "stream",
     "text": [
      "None\n",
      "нет\n"
     ]
    }
   ],
   "source": [
    "password = 'le34ose'\n",
    "regex_pass = r'[\\w*#$%!&.]{8,20}'\n",
    "print(re.match(regex_pass, password))\n",
    "if re.match(regex_pass, password):\n",
    "    print('да')\n",
    "else:\n",
    "    print('нет')"
   ]
  },
  {
   "cell_type": "code",
   "execution_count": null,
   "id": "0a8f2785",
   "metadata": {},
   "outputs": [],
   "source": [
    "#  адрес должен содержать специальный символ “@”, который отделяет имя пользователя почтовой системы от доменного имени;\n",
    "# • адрес не должен содержать следующие символы:\n",
    "#“пробел”, “,”, “:”, “;”, “!”, “#”, “%”, “*”, “(”, “)”, “=”, “+”, “{”, “}”, \" \" \", \" ’ \", \" / \", \" \\ \" и “|”;\n",
    "# • адрес должен состоять только из латинских символов;\n",
    "# • после символа “@” должна быть как минимум одна “.”;\n",
    "# • после последней точки должно быть не менее 2-х и не более 4-х символов, причем наличие цифр не допускается;\n",
    "# • между последней точкой и символом “@” должно быть не менее 2-х символов\n",
    "# • слева от “@” должно быть не менее четырех символов"
   ]
  },
  {
   "cell_type": "code",
   "execution_count": 117,
   "id": "6e1cb5f5",
   "metadata": {},
   "outputs": [
    {
     "name": "stdout",
     "output_type": "stream",
     "text": [
      "None\n",
      "Email is invalid\n"
     ]
    }
   ],
   "source": [
    "email = 'pmf!dd.@fddl.cov'\n",
    "regex_email = r'[a-zA-Z0-9\\.]+[^!]{4,}@[a-z]{2,}\\.[a-z]{2,4}'\n",
    "print(re.search(regex_email, email))\n",
    "if re.match(regex_email, email):\n",
    "    print('Email is valid')\n",
    "else:\n",
    "    print('Email is invalid')"
   ]
  },
  {
   "cell_type": "code",
   "execution_count": 118,
   "id": "70a60075",
   "metadata": {},
   "outputs": [
    {
     "ename": "SyntaxError",
     "evalue": "invalid syntax (1631670633.py, line 1)",
     "output_type": "error",
     "traceback": [
      "\u001b[1;36m  File \u001b[1;32m\"C:\\Users\\admin\\AppData\\Local\\Temp\\ipykernel_2132\\1631670633.py\"\u001b[1;36m, line \u001b[1;32m1\u001b[0m\n\u001b[1;33m    Напишите функцию, которая будет удалять все последовательные повторы слов из заданной строки при помощи регулярных выражений.\u001b[0m\n\u001b[1;37m             ^\u001b[0m\n\u001b[1;31mSyntaxError\u001b[0m\u001b[1;31m:\u001b[0m invalid syntax\n"
     ]
    }
   ],
   "source": [
    "Напишите функцию, которая будет удалять все последовательные повторы слов из заданной строки при помощи регулярных выражений.\n",
    "\n",
    "Пример работы программы:\n",
    "\n",
    "some_string = ‘Напишите функцию функцию, которая будет будет будет будет удалять все все все все последовательные повторы слов из из из из заданной строки строки при помощи регулярных выражений’\n",
    "\n",
    "Результат: Напишите функцию, которая будет удалять все последовательные повторы слов из заданной строки при помощи регулярных выражений."
   ]
  },
  {
   "cell_type": "code",
   "execution_count": 140,
   "id": "7dbd409c",
   "metadata": {},
   "outputs": [
    {
     "data": {
      "text/plain": [
       "'Напишите функцию, которая будет удалять все последовательные повторы слов из заданной строки при помощи регулярных выражений'"
      ]
     },
     "execution_count": 140,
     "metadata": {},
     "output_type": "execute_result"
    }
   ],
   "source": [
    "\n",
    "some_string = 'Напишите функцию функцию, которая будет будет будет будет удалять все все все все последовательные повторы слов из из из из заданной строки строки при помощи регулярных выражений'\n",
    "def del_repeat(some_string):\n",
    "    '''\n",
    "    Функция удаляет последовательные повторы слов\n",
    "    '''\n",
    "    regex = r'(\\w+)(\\s+\\1)+'\n",
    "    return re.sub(regex, r'\\1', some_string)\n",
    "\n",
    "del_repeat(some_string)"
   ]
  },
  {
   "cell_type": "code",
   "execution_count": 285,
   "id": "b9ddd7bd",
   "metadata": {},
   "outputs": [
    {
     "data": {
      "text/plain": [
       "'NFC'"
      ]
     },
     "execution_count": 285,
     "metadata": {},
     "output_type": "execute_result"
    }
   ],
   "source": [
    "# Напишите функцию, которая будет возвращать акроним по переданной в нее строке со словами.\n",
    "\n",
    "# Примеры работы программы:\n",
    "\n",
    "some_words = 'Информационные технологии'\n",
    "\n",
    "some_words = 'Near Field Communication'\n",
    "\n",
    "def acronims(some_words):\n",
    "    '''Возвращает первые буквы слов'''\n",
    "    regex = r'(\\w)\\w+\\s?'\n",
    "#     print(re.findall(regex, some_words))\n",
    "    return re.sub(regex, r'\\1', some_words).upper()\n",
    "acronims(some_words)"
   ]
  },
  {
   "cell_type": "code",
   "execution_count": 233,
   "id": "cdc91404",
   "metadata": {},
   "outputs": [
    {
     "name": "stdout",
     "output_type": "stream",
     "text": [
      "@mail.ru: 1\n",
      "@gmail.com: 2\n",
      "@ya.ru: 2\n",
      "@test.in: 1\n"
     ]
    }
   ],
   "source": [
    "# Напишите функцию, которая будет принимать на вход список email-адресов и выводить их распределение по доменным зонам.\n",
    "\n",
    "# Пример работы программы:\n",
    "\n",
    "# emails = [‘test@gmail.com, xyz@test.in, test@ya.ru, xyz@mail.ru, xyz@ya.ru’, xyz@gmail.com]\n",
    "\n",
    "# Результат:\n",
    "\n",
    "# gmail.com: 2 test.in: 1 ya.ru: 2 mail.ru: 1\n",
    "\n",
    "emails = ['test@gmail.com', 'xyz@test.in', 'test@ya.ru', 'xyz@mail.ru', 'xyz@ya.ru', 'xyz@gmail.com']\n",
    "\n",
    "def agr_for_domen(emails):\n",
    "    regex = r'@.+'\n",
    "    my_list = []\n",
    "    for email in emails:\n",
    "        my_list.append(re.findall(regex, email)[0])\n",
    "    for email in set(my_list):\n",
    "        count = str(my_list.count(email))\n",
    "        result = email + ': ' + count\n",
    "        print(result)\n",
    "agr_for_domen(emails)"
   ]
  },
  {
   "cell_type": "code",
   "execution_count": null,
   "id": "34e2c139",
   "metadata": {},
   "outputs": [],
   "source": [
    "Напишите функцию, которая будет подсчитывать сколько слов начинается на гласные,\n",
    "а сколько на согласные буквы в тексте (текст может быть написан как с использованием букв кириллицы, так и латиницы).\n",
    "\n",
    "Пример работы программы:\n",
    "\n",
    "some_text = ‘Эталонной реализацией Python является интерпретатор CPython, поддерживающий большинство \n",
    "активно используемых платформ. Он распространяется под свободной лицензией Python Software Foundation License, \n",
    "позволяющей использовать его без ограничений в любых приложениях, включая проприетарные.’\n",
    "\n",
    "Результат:\n",
    "\n",
    "Слов на гласные буквы: 9 Слов на согласные буквы: 21"
   ]
  },
  {
   "cell_type": "code",
   "execution_count": 249,
   "id": "078d0130",
   "metadata": {},
   "outputs": [
    {
     "name": "stdout",
     "output_type": "stream",
     "text": [
      "Слов на гласные буквы: 9. Слов на согласные буквы: 21\n"
     ]
    }
   ],
   "source": [
    "some_text = 'Эталонной реализацией Python является интерпретатор CPython, поддерживающий большинство активно используемых платформ. Он распространяется под свободной лицензией Python Software Foundation License, позволяющей использовать его без ограничений в любых приложениях, включая проприетарные.'\n",
    "def calc_for_letters(some_text):\n",
    "    some_text = some_text.upper()\n",
    "    regex_gl = r'(\\b[АОУЫЭЕЁИЮЯAEIOUY])'\n",
    "    regex_sogl = r'(\\b[БВГДЖЗЙКЛМНПРСТФХЦЧШЩBCDFGHJKLMNPQRSTVWXYZ])'\n",
    "    result  = f'Слов на гласные буквы: {len(re.findall(regex_gl, some_text))}. Слов на согласные буквы: {len(re.findall(regex_sogl, some_text))}'\n",
    "    print(result)\n",
    "    \n",
    "calc_for_letters(some_text)"
   ]
  },
  {
   "cell_type": "code",
   "execution_count": null,
   "id": "b0266f4e",
   "metadata": {},
   "outputs": [],
   "source": [
    "Напишите функцию, которая будет проверять номер сотового телефона на валидность, если он валиден, \n",
    "то переводить его в формат: +7-xxx-xxx-xx-xx Постарайтесь предусмотреть как можно больше адекватных \n",
    "    форматов изначального ввода номера. Примеры работы программы:\n",
    "\n",
    "phone = '+7 955 555-55-55’ Результат: +7-950-555-55-55\n",
    "\n",
    "phone = '8(955)555-55-55’ Результат: +7-950-555-55-55\n",
    "\n",
    "phone = '+7 955 555 55 55’ Результат: +7-950-555-55-55\n",
    "\n",
    "phone = '7(955) 555-55-55’ Результат: +7-950-555-55-55\n",
    "\n",
    "phone = '423-555-55-5555’ Результат: Номер не валиден\n",
    "\n",
    "phone = '123-456-789’ Результат: Номер не валиден"
   ]
  },
  {
   "cell_type": "code",
   "execution_count": 354,
   "id": "3d289f08",
   "metadata": {},
   "outputs": [
    {
     "name": "stdout",
     "output_type": "stream",
     "text": [
      "+7-955-555-55-55\n"
     ]
    }
   ],
   "source": [
    "phone = '8(955)555-55-55'\n",
    "def phone_check(phone):\n",
    "    '''Проверяет на валидность номер сотового телефона в РФ'''\n",
    "    phone_regex = r'(7|8|\\+7)(\\s|\\()+(\\d{3})(\\s|\\))+(\\d{3})(-|\\s)+(\\d{2})(-|\\s)+(\\d{2})'\n",
    "    if re.match(phone_regex, phone):\n",
    "        print(re.sub(phone_regex, r'+7-\\3-\\5-\\7-\\9', phone))\n",
    "    else:\n",
    "        print('Номер не валидный')\n",
    "phone_check(phone)"
   ]
  }
 ],
 "metadata": {
  "kernelspec": {
   "display_name": "Python 3 (ipykernel)",
   "language": "python",
   "name": "python3"
  },
  "language_info": {
   "codemirror_mode": {
    "name": "ipython",
    "version": 3
   },
   "file_extension": ".py",
   "mimetype": "text/x-python",
   "name": "python",
   "nbconvert_exporter": "python",
   "pygments_lexer": "ipython3",
   "version": "3.9.13"
  }
 },
 "nbformat": 4,
 "nbformat_minor": 5
}
